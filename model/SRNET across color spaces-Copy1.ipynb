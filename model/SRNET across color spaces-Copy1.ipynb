{
 "cells": [
  {
   "cell_type": "code",
   "execution_count": 1,
   "metadata": {},
   "outputs": [],
   "source": [
    "from tensorflow import keras\n",
    "\n",
    "from tensorflow.keras.models import *\n",
    "from tensorflow.keras.layers import *\n",
    "from tensorflow.keras.optimizers import *\n",
    "from tensorflow.keras.activations import *\n",
    "\n",
    "import tensorflow as tf\n",
    "import cv2\n",
    "import random\n",
    "import matplotlib.pylab as plt\n",
    "%matplotlib inline"
   ]
  },
  {
   "cell_type": "code",
   "execution_count": 2,
   "metadata": {},
   "outputs": [],
   "source": [
    "import numpy as np\n",
    "import glob\n",
    "from pylab import rcParams\n",
    "rcParams['figure.figsize'] = 10, 10"
   ]
  },
  {
   "cell_type": "code",
   "execution_count": 3,
   "metadata": {},
   "outputs": [
    {
     "data": {
      "text/plain": [
       "'2.1.0'"
      ]
     },
     "execution_count": 3,
     "metadata": {},
     "output_type": "execute_result"
    }
   ],
   "source": [
    "#import tensorflow\n",
    "\n",
    "tf.__version__"
   ]
  },
  {
   "cell_type": "code",
   "execution_count": 4,
   "metadata": {},
   "outputs": [],
   "source": [
    "def layer1(input_, filters=64):\n",
    "    c1 = Conv2D(filters=filters, kernel_size=(3,3), strides=(1, 1), activation='relu', padding='same')(input_)\n",
    "    bn1 = BatchNormalization()(c1)\n",
    "    actRelu = relu(bn1)\n",
    "    \n",
    "    return actRelu\n",
    "\n",
    "def layer2(input_, filters=64):\n",
    "    l1 = layer1(input_)\n",
    "    c1 = Conv2D(filters=filters, kernel_size=(3,3), strides=(1, 1), activation='relu', padding='same')(l1)\n",
    "    bn1 = BatchNormalization()(c1)\n",
    "    conc = concatenate([bn1, input_])\n",
    "    \n",
    "    return conc\n",
    "\n",
    "def layer3(input_, filters=64):\n",
    "    l1 = layer1(input_)\n",
    "    c1 = Conv2D(filters=filters, kernel_size=(3,3), strides=(1, 1), activation='relu', padding='same')(l1)\n",
    "    bn1 = BatchNormalization()(c1)\n",
    "    mp1 = MaxPool2D(pool_size=(2,2), strides=(2, 2))(bn1)\n",
    "    \n",
    "    # side stream\n",
    "    c1_s = Conv2D(filters=filters, kernel_size=(1,1), strides=(2, 2), activation='relu', padding='same')(input_)\n",
    "    bn1_s = BatchNormalization()(c1_s)\n",
    "    \n",
    "    conc = concatenate([mp1, bn1_s])\n",
    "    \n",
    "    return conc\n",
    "\n",
    "def layer4(input_, filters=64):\n",
    "    l1 = layer1(input_)\n",
    "    c1 = Conv2D(filters=filters, kernel_size=(3,3), strides=(1, 1), activation='relu', padding='same')(l1)\n",
    "    bn1 = BatchNormalization()(c1)\n",
    "    g1 = GlobalAveragePooling2D()(bn1)\n",
    "    \n",
    "    return g1"
   ]
  },
  {
   "cell_type": "code",
   "execution_count": 5,
   "metadata": {},
   "outputs": [],
   "source": [
    "def srnet(input_img):\n",
    "    # Two layers of type 1\n",
    "    l1_1 = layer1(input_img, filters=64)\n",
    "    l1_2 = layer1(l1_1, filters=16)\n",
    "    \n",
    "#     # Five layers of type 2\n",
    "    l2_1 = layer2(l1_2, filters=16)\n",
    "    l2_2 = layer2(l2_1, filters=16)\n",
    "    l2_3 = layer2(l2_2, filters=16)\n",
    "    l2_4 = layer2(l2_3, filters=16)\n",
    "    l2_5 = layer2(l2_4, filters=16)\n",
    "    \n",
    "    l3_1 = layer3(l2_5, filters=16)\n",
    "    l3_2 = layer3(l3_1, filters=64)\n",
    "    \n",
    "    l4_1 = layer4(l3_2, filters=16)\n",
    "    \n",
    "    fc1 = Flatten()(l4_1)\n",
    "    d1 = Dense(512)(fc1)\n",
    "    \n",
    "#     a1 = softmax(d1)\n",
    "    \n",
    "    return d1"
   ]
  },
  {
   "cell_type": "code",
   "execution_count": 6,
   "metadata": {},
   "outputs": [],
   "source": [
    "image_size = (32, 32)\n",
    "input_img = Input(shape = (*image_size, 3))\n",
    "\n",
    "model_BGR =  Sequential(Model(input_img, srnet(input_img)))\n",
    "\n",
    "\n",
    "model_HSV = Sequential(Model(input_img, srnet(input_img)))\n",
    "# model_HSV.add(Flatten())\n",
    "\n",
    "\n",
    "# # model_YUV = Model(input_img, model(input_img))\n",
    "model_YUV = Sequential(Model(input_img, srnet(input_img)))\n",
    "# model_YUV.add(Flatten())\n",
    "\n",
    "# # model_LAB = Model(input_img, model(input_img))\n",
    "model_LAB = Sequential(Model(input_img, srnet(input_img)))\n",
    "# model_LAB.add(Flatten())\n",
    "\n",
    "model_HED = Sequential(Model(input_img, srnet(input_img)))\n",
    "# model_HED.add(Flatten())\n",
    "\n",
    "model_XYZ = Sequential(Model(input_img, srnet(input_img)))\n",
    "# model_XYZ.add(Flatten())"
   ]
  },
  {
   "cell_type": "code",
   "execution_count": 7,
   "metadata": {},
   "outputs": [],
   "source": [
    "x = concatenate(inputs=[model_BGR.output, model_HSV.output, model_YUV.output,\n",
    "                       model_LAB.output, model_HED.output, model_XYZ.output])"
   ]
  },
  {
   "cell_type": "code",
   "execution_count": 8,
   "metadata": {},
   "outputs": [],
   "source": [
    "z = Dense(2, activation=\"softmax\")(x)\n",
    "# our model will accept the inputs of the two branches and\n",
    "# then output a single value\n",
    "model_comb = Model(inputs=[model_BGR.input, model_HSV.input, model_YUV.input, \n",
    "                          model_LAB.input, model_HED.input, model_XYZ.input], outputs=z)"
   ]
  },
  {
   "cell_type": "code",
   "execution_count": 9,
   "metadata": {},
   "outputs": [
    {
     "name": "stdout",
     "output_type": "stream",
     "text": [
      "Model: \"model_6\"\n",
      "__________________________________________________________________________________________________\n",
      "Layer (type)                    Output Shape         Param #     Connected to                     \n",
      "==================================================================================================\n",
      "model_input (InputLayer)        [(None, 32, 32, 3)]  0                                            \n",
      "__________________________________________________________________________________________________\n",
      "model_1_input (InputLayer)      [(None, 32, 32, 3)]  0                                            \n",
      "__________________________________________________________________________________________________\n",
      "model_2_input (InputLayer)      [(None, 32, 32, 3)]  0                                            \n",
      "__________________________________________________________________________________________________\n",
      "model_3_input (InputLayer)      [(None, 32, 32, 3)]  0                                            \n",
      "__________________________________________________________________________________________________\n",
      "model_4_input (InputLayer)      [(None, 32, 32, 3)]  0                                            \n",
      "__________________________________________________________________________________________________\n",
      "model_5_input (InputLayer)      [(None, 32, 32, 3)]  0                                            \n",
      "__________________________________________________________________________________________________\n",
      "model (Model)                   (None, 512)          414544      model_input[0][0]                \n",
      "__________________________________________________________________________________________________\n",
      "model_1 (Model)                 (None, 512)          414544      model_1_input[0][0]              \n",
      "__________________________________________________________________________________________________\n",
      "model_2 (Model)                 (None, 512)          414544      model_2_input[0][0]              \n",
      "__________________________________________________________________________________________________\n",
      "model_3 (Model)                 (None, 512)          414544      model_3_input[0][0]              \n",
      "__________________________________________________________________________________________________\n",
      "model_4 (Model)                 (None, 512)          414544      model_4_input[0][0]              \n",
      "__________________________________________________________________________________________________\n",
      "model_5 (Model)                 (None, 512)          414544      model_5_input[0][0]              \n",
      "__________________________________________________________________________________________________\n",
      "concatenate_42 (Concatenate)    (None, 3072)         0           model[1][0]                      \n",
      "                                                                 model_1[1][0]                    \n",
      "                                                                 model_2[1][0]                    \n",
      "                                                                 model_3[1][0]                    \n",
      "                                                                 model_4[1][0]                    \n",
      "                                                                 model_5[1][0]                    \n",
      "__________________________________________________________________________________________________\n",
      "dense_6 (Dense)                 (None, 2)            6146        concatenate_42[0][0]             \n",
      "==================================================================================================\n",
      "Total params: 2,493,410\n",
      "Trainable params: 2,483,234\n",
      "Non-trainable params: 10,176\n",
      "__________________________________________________________________________________________________\n"
     ]
    }
   ],
   "source": [
    "model_comb.summary()"
   ]
  },
  {
   "cell_type": "code",
   "execution_count": 14,
   "metadata": {},
   "outputs": [
    {
     "data": {
      "image/png": "[encoded data removed]",
      "text/plain": [
       "<IPython.core.display.Image object>"
      ]
     },
     "execution_count": 14,
     "metadata": {},
     "output_type": "execute_result"
    }
   ],
   "source": [
    "tf.keras.utils.plot_model(model_comb, to_file='model_plot.png', show_shapes=True, show_layer_names=True)"
   ]
  },
  {
   "cell_type": "code",
   "execution_count": null,
   "metadata": {},
   "outputs": [],
   "source": [
    "from skimage.color import rgb2hed"
   ]
  },
  {
   "cell_type": "code",
   "execution_count": null,
   "metadata": {},
   "outputs": [],
   "source": [
    "img = cv2.imread('../Cover/00010.jpg')#, cv2.COLOR_BGR2RGB)"
   ]
  },
  {
   "cell_type": "code",
   "execution_count": null,
   "metadata": {},
   "outputs": [],
   "source": [
    "def changeColorSpace(img, flag):\n",
    "    if flag == 'flag_HED':\n",
    "        img = rgb2hed(cv2.cvtColor(img, cv2.COLOR_BGR2RGB))\n",
    "        return img/np.max(img)\n",
    "    else:\n",
    "        img = cv2.cvtColor(img, flag)\n",
    "        return img/np.max(img)"
   ]
  },
  {
   "cell_type": "code",
   "execution_count": null,
   "metadata": {},
   "outputs": [],
   "source": [
    "flag_HSV = cv2.COLOR_BGR2HSV\n",
    "flag_YUV = cv2.COLOR_BGR2YUV\n",
    "flag_LAB = cv2.COLOR_BGR2LAB\n",
    "flag_HED = 'flag_HED'\n",
    "flag_XYZ = cv2.COLOR_BGR2XYZ"
   ]
  },
  {
   "cell_type": "code",
   "execution_count": null,
   "metadata": {},
   "outputs": [],
   "source": [
    "img_hed = changeColorSpace(img, flag_HSV)\n",
    "\n",
    "fig, axes = plt.subplots(2, 2, figsize=(7, 6))\n",
    "ax0, ax1, ax2, ax3 = axes.ravel()\n",
    "\n",
    "ax0.imshow(img)\n",
    "ax0.set_title(\"Original image\")\n",
    "\n",
    "ax1.imshow(img_hed[:, :, 0], cmap=plt.cm.gray)\n",
    "\n",
    "ax2.imshow(img_hed[:, :, 1], cmap=plt.cm.gray)\n",
    "#ax2.set_title(\"Eosin\")\n",
    "\n",
    "ax3.imshow(img_hed[:, :, 2], cmap=plt.cm.gray)\n",
    "#ax3.set_title(\"DAB\")\n",
    "\n",
    "for ax in axes.ravel():\n",
    "    ax.axis('off')\n",
    "\n",
    "fig.subplots_adjust(hspace=0.3)"
   ]
  },
  {
   "cell_type": "code",
   "execution_count": null,
   "metadata": {},
   "outputs": [],
   "source": [
    "img_hed = changeColorSpace(img, flag_YUV)\n",
    "\n",
    "fig, axes = plt.subplots(2, 2, figsize=(7, 6))\n",
    "ax0, ax1, ax2, ax3 = axes.ravel()\n",
    "\n",
    "ax0.imshow(img)\n",
    "ax0.set_title(\"Original image\")\n",
    "\n",
    "ax1.imshow(img_hed[:, :, 0], cmap=plt.cm.gray)\n",
    "\n",
    "ax2.imshow(img_hed[:, :, 1], cmap=plt.cm.gray)\n",
    "#ax2.set_title(\"Eosin\")\n",
    "\n",
    "ax3.imshow(img_hed[:, :, 2], cmap=plt.cm.gray)\n",
    "#ax3.set_title(\"DAB\")\n",
    "\n",
    "for ax in axes.ravel():\n",
    "    ax.axis('off')\n",
    "\n",
    "fig.subplots_adjust(hspace=0.3)"
   ]
  },
  {
   "cell_type": "code",
   "execution_count": null,
   "metadata": {},
   "outputs": [],
   "source": [
    "img_hed = changeColorSpace(img, flag_LAB)\n",
    "\n",
    "fig, axes = plt.subplots(2, 2, figsize=(7, 6))\n",
    "ax0, ax1, ax2, ax3 = axes.ravel()\n",
    "\n",
    "ax0.imshow(img)\n",
    "ax0.set_title(\"Original image\")\n",
    "\n",
    "ax1.imshow(img_hed[:, :, 0], cmap=plt.cm.gray)\n",
    "\n",
    "ax2.imshow(img_hed[:, :, 1], cmap=plt.cm.gray)\n",
    "#ax2.set_title(\"Eosin\")\n",
    "\n",
    "ax3.imshow(img_hed[:, :, 2], cmap=plt.cm.gray)\n",
    "#ax3.set_title(\"DAB\")\n",
    "\n",
    "for ax in axes.ravel():\n",
    "    ax.axis('off')\n",
    "\n",
    "fig.subplots_adjust(hspace=0.3)"
   ]
  },
  {
   "cell_type": "code",
   "execution_count": null,
   "metadata": {},
   "outputs": [],
   "source": [
    "img_hed = changeColorSpace(img, flag_HED)\n",
    "\n",
    "fig, axes = plt.subplots(2, 2, figsize=(7, 6))\n",
    "ax0, ax1, ax2, ax3 = axes.ravel()\n",
    "\n",
    "ax0.imshow(img)\n",
    "ax0.set_title(\"Original image\")\n",
    "\n",
    "ax1.imshow(img_hed[:, :, 0], cmap=plt.cm.gray)\n",
    "\n",
    "ax2.imshow(img_hed[:, :, 1], cmap=plt.cm.gray)\n",
    "#ax2.set_title(\"Eosin\")\n",
    "\n",
    "ax3.imshow(img_hed[:, :, 2], cmap=plt.cm.gray)\n",
    "#ax3.set_title(\"DAB\")\n",
    "\n",
    "for ax in axes.ravel():\n",
    "    ax.axis('off')\n",
    "\n",
    "fig.subplots_adjust(hspace=0.3)"
   ]
  },
  {
   "cell_type": "code",
   "execution_count": null,
   "metadata": {},
   "outputs": [],
   "source": [
    "img_hed = changeColorSpace(img, flag_XYZ)\n",
    "\n",
    "fig, axes = plt.subplots(2, 2, figsize=(7, 6))\n",
    "ax0, ax1, ax2, ax3 = axes.ravel()\n",
    "\n",
    "ax0.imshow(img)\n",
    "ax0.set_title(\"Original image\")\n",
    "\n",
    "ax1.imshow(img_hed[:, :, 0], cmap=plt.cm.gray)\n",
    "\n",
    "ax2.imshow(img_hed[:, :, 1], cmap=plt.cm.gray)\n",
    "#ax2.set_title(\"Eosin\")\n",
    "\n",
    "ax3.imshow(img_hed[:, :, 2], cmap=plt.cm.gray)\n",
    "#ax3.set_title(\"DAB\")\n",
    "\n",
    "for ax in axes.ravel():\n",
    "    ax.axis('off')\n",
    "\n",
    "fig.subplots_adjust(hspace=0.3)"
   ]
  },
  {
   "cell_type": "code",
   "execution_count": null,
   "metadata": {},
   "outputs": [],
   "source": [
    "def get_image_data(image_id, image_size):\n",
    "    img = cv2.imread(image_id)\n",
    "    h, w = image_size\n",
    "    crop_img = img[0:h, 0:w]\n",
    "    return crop_img//1\n",
    "\n",
    "def get_label(image_id):\n",
    "    if 'Cover' in image_id:\n",
    "        return [1,0]\n",
    "    else:\n",
    "        return [0,1]"
   ]
  },
  {
   "cell_type": "code",
   "execution_count": null,
   "metadata": {},
   "outputs": [],
   "source": [
    "class DataGenerator(keras.utils.Sequence):\n",
    "    'Generates data for Keras'\n",
    "    def __init__(self, list_IDs, batch_size=32, dim=(32,32,32), n_channels=1, \n",
    "                 shuffle=True, number_of_labels=2, flag=None):\n",
    "        'Initialization'\n",
    "        self.dim = dim\n",
    "        self.batch_size = batch_size\n",
    "        self.list_IDs = list_IDs\n",
    "        self.n_channels = n_channels\n",
    "        self.shuffle = shuffle\n",
    "        self.on_epoch_end()\n",
    "        self.number_of_labels = number_of_labels\n",
    "        self.flag = flag\n",
    "        \n",
    "    def __len__(self):\n",
    "        'Denotes the number of batches per epoch'\n",
    "        return int(np.floor(len(self.list_IDs) / self.batch_size))\n",
    "    \n",
    "    def __getitem__(self, index):\n",
    "        'Generate one batch of data'\n",
    "        # Generate indexes of the batch\n",
    "        indexes = self.indexes[index*self.batch_size:(index+1)*self.batch_size]\n",
    "\n",
    "        # Find list of IDs\n",
    "        list_IDs_temp = [self.list_IDs[k] for k in indexes]\n",
    "        \n",
    "        \"\"\"Getting items from the 2 generators and packing them\"\"\"\n",
    "#         img = get_image_data(list_IDs_temp[0], self.dim)\n",
    "        \n",
    "#         X1, X2, X3, X4, X5, X6 = [img/np.max(img), changeColorSpace(img, flag_HSV), \n",
    "#                                   changeColorSpace(img, flag_YUV), changeColorSpace(img, flag_LAB), \n",
    "#                                   changeColorSpace(img, flag_HED), changeColorSpace(img, flag_XYZ)]\n",
    "        \n",
    "#         X_batch = ([np.array(X1), np.array(X2), np.array(X3), np.array(X4), np.array(X5), np.array(6)])\n",
    "#         y_batch = ([np.array(get_label(list_IDs_temp[0]))])\n",
    "        \n",
    "#         img = get_image_data(list_IDs_temp[1], self.dim)\n",
    "        \n",
    "#         X1, X2, X3, X4, X5, X6 = [img/np.max(img), changeColorSpace(img, flag_HSV), \n",
    "#                                   changeColorSpace(img, flag_YUV), changeColorSpace(img, flag_LAB), \n",
    "#                                   changeColorSpace(img, flag_HED), changeColorSpace(img, flag_XYZ)]\n",
    "        \n",
    "#         X_batch.append([X1, X2, X3, X4, X5, X6])\n",
    "#         y_batch.append(get_label(list_IDs_temp[1]))\n",
    "\n",
    "#         return X_batch, y_batch\n",
    "\n",
    "        # Generate data\n",
    "        X, y = self.__data_generation(list_IDs_temp)\n",
    "        # cv2 recevrses height and width\n",
    "        return [X[0], X[1], X[2], X[3], X[4], X[5]], y\n",
    "#         return X, y\n",
    "\n",
    "    def on_epoch_end(self):\n",
    "        'Updates indexes after each epoch'\n",
    "        self.indexes = np.arange(len(self.list_IDs))\n",
    "        if self.shuffle == True:\n",
    "            np.random.shuffle(self.indexes)\n",
    "\n",
    "    def __data_generation(self, list_IDs_temp):\n",
    "        'Generates data containing batch_size samples' # X : (n_samples, *dim, n_channels)\n",
    "        # Initialization\n",
    "#         X = np.empty((self.batch_size, *self.dim[::-1], self.n_channels))\n",
    "#         y = np.empty((self.batch_size, *self.dim[::-1]))\n",
    "        X = np.empty((6, self.batch_size, *self.dim, self.n_channels))\n",
    "        y = np.empty((self.batch_size, self.number_of_labels))\n",
    "        \n",
    "        # Generate data\n",
    "        for i, ID in enumerate(list_IDs_temp):\n",
    "            # Store sample\n",
    "            img = get_image_data(ID, self.dim)\n",
    "            X[0,i] = img/np.max(img)\n",
    "            X[1,i] = changeColorSpace(img, flag_HSV)\n",
    "            X[2,i] = changeColorSpace(img, flag_YUV)\n",
    "            X[3,i] = changeColorSpace(img, flag_LAB)\n",
    "            X[4,i] = changeColorSpace(img, flag_HED)\n",
    "            X[5,i] = changeColorSpace(img, flag_XYZ)\n",
    "            \n",
    "            y[i,:] = get_label(ID)\n",
    "                    \n",
    "        return X, y"
   ]
  },
  {
   "cell_type": "code",
   "execution_count": null,
   "metadata": {},
   "outputs": [],
   "source": [
    "limit = 250\n",
    "cover_imgs = glob.glob('../Cover/*.jpg')\n",
    "cover_imgs = cover_imgs[:limit]\n",
    "\n",
    "jmipod_imgs = glob.glob('../JMiPOD/*.jpg')\n",
    "jmipod_imgs = jmipod_imgs[:limit]\n",
    "\n",
    "juniward_imgs = glob.glob('../JUNIWARD/*.jpg')\n",
    "juniward_imgs = juniward_imgs[:limit]\n",
    "\n",
    "uerd_imgs = glob.glob('../UERD/*.jpg')\n",
    "uerd_imgs = uerd_imgs[:limit]\n",
    "\n",
    "list_IDs = cover_imgs + jmipod_imgs + juniward_imgs + uerd_imgs\n",
    "\n",
    "random.Random(4).shuffle(list_IDs)\n",
    "\n",
    "train_IDs = list_IDs[:750]\n",
    "test_IDs = list_IDs[750:]"
   ]
  },
  {
   "cell_type": "code",
   "execution_count": null,
   "metadata": {},
   "outputs": [],
   "source": [
    "params = {'dim': image_size,\n",
    "          'batch_size': 1,\n",
    "          'n_channels': 3,\n",
    "          'shuffle': True, }\n",
    "\n",
    "# Generators\n",
    "training_generator = DataGenerator(train_IDs, **params)"
   ]
  },
  {
   "cell_type": "code",
   "execution_count": null,
   "metadata": {},
   "outputs": [],
   "source": [
    "X,y = training_generator.__getitem__(0)"
   ]
  },
  {
   "cell_type": "code",
   "execution_count": null,
   "metadata": {},
   "outputs": [],
   "source": [
    "len(X)"
   ]
  },
  {
   "cell_type": "code",
   "execution_count": null,
   "metadata": {},
   "outputs": [],
   "source": [
    "X[0].shape"
   ]
  },
  {
   "cell_type": "code",
   "execution_count": null,
   "metadata": {},
   "outputs": [],
   "source": [
    "plt.imshow(X[0][0])"
   ]
  },
  {
   "cell_type": "code",
   "execution_count": null,
   "metadata": {},
   "outputs": [],
   "source": [
    "model_comb.compile(loss=keras.losses.binary_crossentropy, \n",
    "                    metrics=['accuracy'], optimizer='adadelta')"
   ]
  },
  {
   "cell_type": "code",
   "execution_count": null,
   "metadata": {},
   "outputs": [],
   "source": [
    "model_comb.fit_generator(generator=training_generator, epochs=5)"
   ]
  },
  {
   "cell_type": "code",
   "execution_count": null,
   "metadata": {},
   "outputs": [],
   "source": [
    "len(X)"
   ]
  },
  {
   "cell_type": "code",
   "execution_count": null,
   "metadata": {},
   "outputs": [],
   "source": []
  }
 ],
 "metadata": {
  "kernelspec": {
   "display_name": "YOLO",
   "language": "python",
   "name": "yolo"
  },
  "language_info": {
   "codemirror_mode": {
    "name": "ipython",
    "version": 3
   },
   "file_extension": ".py",
   "mimetype": "text/x-python",
   "name": "python",
   "nbconvert_exporter": "python",
   "pygments_lexer": "ipython3",
   "version": "3.6.9"
  }
 },
 "nbformat": 4,
 "nbformat_minor": 2
}
