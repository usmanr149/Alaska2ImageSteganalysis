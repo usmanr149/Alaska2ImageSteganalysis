{
 "cells": [
  {
   "cell_type": "code",
   "execution_count": 83,
   "metadata": {},
   "outputs": [],
   "source": [
    "import numpy as np\n",
    "import cv2\n",
    "\n",
    "from sklearn.feature_selection import SelectKBest\n",
    "from sklearn.feature_selection import f_classif\n",
    "\n",
    "from matplotlib import pyplot\n",
    "\n",
    "from matplotlib import pyplot as plt\n",
    "from mpl_toolkits.mplot3d import Axes3D"
   ]
  },
  {
   "cell_type": "code",
   "execution_count": 74,
   "metadata": {},
   "outputs": [],
   "source": [
    "import glob\n",
    "from sklearn.metrics import classification_report, confusion_matrix\n",
    "from sklearn.metrics import roc_auc_score\n",
    "from sklearn.metrics import roc_curve, auc\n",
    "from sklearn.preprocessing import label_binarize"
   ]
  },
  {
   "cell_type": "code",
   "execution_count": 3,
   "metadata": {},
   "outputs": [],
   "source": [
    "cover_fnames = sorted(glob.glob('../Cover/*.jpg'))\n",
    "cover_fnames = cover_fnames[:600]\n",
    "juniward_fnames = sorted(glob.glob('../JUNIWARD/*.jpg'))\n",
    "juniward_fnames = juniward_fnames[:600]\n",
    "jmipod_fnames = sorted(glob.glob('../JMiPOD/*.jpg'))\n",
    "jmipod_fnames = jmipod_fnames[:600]\n",
    "uerd_fnames = sorted(glob.glob('../UERD/*.jpg'))\n",
    "uerd_fnames = uerd_fnames[:600]"
   ]
  },
  {
   "cell_type": "code",
   "execution_count": 4,
   "metadata": {},
   "outputs": [],
   "source": [
    "from collections import Counter"
   ]
  },
  {
   "cell_type": "code",
   "execution_count": 5,
   "metadata": {},
   "outputs": [
    {
     "name": "stdout",
     "output_type": "stream",
     "text": [
      "600\n",
      "600\n",
      "600\n",
      "600\n"
     ]
    }
   ],
   "source": [
    "print(len(cover_fnames))\n",
    "print(len(juniward_fnames))\n",
    "print(len(jmipod_fnames))\n",
    "print(len(uerd_fnames))"
   ]
  },
  {
   "cell_type": "code",
   "execution_count": null,
   "metadata": {},
   "outputs": [],
   "source": [
    "img = cv2.imread(uerd_fnames[0], 0)\n",
    "plt.imshow(img)"
   ]
  },
  {
   "cell_type": "code",
   "execution_count": null,
   "metadata": {},
   "outputs": [],
   "source": [
    "plt.imshow(np.flip(img, axis = 1))"
   ]
  },
  {
   "cell_type": "code",
   "execution_count": null,
   "metadata": {},
   "outputs": [],
   "source": [
    "# from numba import jit, s"
   ]
  },
  {
   "cell_type": "code",
   "execution_count": null,
   "metadata": {},
   "outputs": [],
   "source": [
    "x = [0,1,1,1,1,0,1,1,1,1,0]\n",
    "sum_ = 0\n",
    "for x_ in x:\n",
    "    sum_+=x_\n",
    "sum_"
   ]
  },
  {
   "cell_type": "code",
   "execution_count": 248,
   "metadata": {},
   "outputs": [],
   "source": [
    "def SPAM(img, i_prime=0, j_prime=3, T=4):\n",
    "    T+=1\n",
    "    diff_img = []\n",
    "    for i in range(0, img.shape[0], 1):\n",
    "        for j in range(0, img.shape[1], 1):\n",
    "            if j+j_prime<img.shape[1] and i+i_prime<img.shape[0]:\n",
    "                diff = img[i][j] - img[i+i_prime][j+j_prime]\n",
    "                if abs(diff) < T:\n",
    "                    diff_img.append(diff)\n",
    "    return np.array(diff_img)\n",
    "\n",
    "def SPAM_Dh(img, j_prime=3, T=3):\n",
    "    #Dh    \n",
    "    diff = (img[:,:img.shape[1]-j_prime] - img[:, j_prime:]).ravel()\n",
    "    diff = diff[np.logical_and(diff>=-T, diff<=T)]\n",
    "    return diff\n",
    "    \n",
    "def SPAM_Dv(img, i_prime=3, T=3):\n",
    "    #Dv\n",
    "    diff = (img[:img.shape[0]-i_prime] - img[i_prime:]).ravel()\n",
    "    diff = diff[np.logical_and(diff>=-T, diff<=T)]\n",
    "    return diff\n",
    "\n",
    "def SPAM_Dd(img, i_prime=3, j_prime=3, T=3):\n",
    "    # get width\n",
    "    w = img.shape[1]\n",
    "\n",
    "    img_rav = img.ravel()\n",
    "\n",
    "    a = img_rav[:img_rav.shape[0]-(j_prime*w+i_prime)]\n",
    "    b = img_rav[j_prime*w+i_prime:]\n",
    "    \n",
    "    for i in range(i_prime):\n",
    "        try:\n",
    "            del_ = np.append(del_, np.arange(w-i-1,img_rav.shape[0]-(j_prime*w+i_prime), w))\n",
    "        except:\n",
    "            del_ = np.arange(w-i-1,img_rav.shape[0]-(j_prime*w+i_prime), w)\n",
    "    a = np.delete(a, del_, axis=0)\n",
    "    b = np.delete(b, del_, axis=0)\n",
    "\n",
    "    diff = a - b\n",
    "    diff = diff[np.logical_and(diff>=-T, diff<=T)]\n",
    "\n",
    "    return diff\n",
    "\n",
    "def transition_matrix(transitions, T=3):\n",
    "    n = 2*T+1 #number of states\n",
    "\n",
    "    M = np.zeros((n,n))\n",
    "    \n",
    "    for (i,j), c in Counter(zip(transitions, transitions[1:])).items():\n",
    "        M[i][j] = c\n",
    "        \n",
    "    M = M/M.sum(axis=1)[:,None]\n",
    "    M[np.isnan(M)] = 0\n",
    "    return M    \n",
    "#     #now convert to probabilities:\n",
    "#     for row in M:\n",
    "#         s = sum(row)\n",
    "#         if s > 0:\n",
    "#             row[:] = [f/s for f in row]\n",
    "#     return np.array(M)"
   ]
  },
  {
   "cell_type": "code",
   "execution_count": 255,
   "metadata": {},
   "outputs": [],
   "source": [
    "img = cv2.imread(cover_fnames[0])\n",
    "img = cv2.cvtColor(img, cv2.COLOR_BGR2YCR_CB)\n",
    "img = img.astype(int)\n",
    "\n",
    "img_j = cv2.imread(jmipod_fnames[0])\n",
    "img_j = cv2.cvtColor(img_j, cv2.COLOR_BGR2YCR_CB)\n",
    "img_j = img_j.astype(int)"
   ]
  },
  {
   "cell_type": "code",
   "execution_count": 256,
   "metadata": {},
   "outputs": [
    {
     "data": {
      "text/plain": [
       "<matplotlib.image.AxesImage at 0x7f817e09e0f0>"
      ]
     },
     "execution_count": 256,
     "metadata": {},
     "output_type": "execute_result"
    },
    {
     "data": {
      "image/png": "[encoded data removed]",
      "text/plain": [
       "<Figure size 432x288 with 1 Axes>"
      ]
     },
     "metadata": {
      "needs_background": "light"
     },
     "output_type": "display_data"
    }
   ],
   "source": [
    "plt.imshow(img[:,:,0] - img_j[:,:,0])"
   ]
  },
  {
   "cell_type": "code",
   "execution_count": 257,
   "metadata": {},
   "outputs": [],
   "source": [
    "a = SPAM_Dv(img, 3, 3)"
   ]
  },
  {
   "cell_type": "code",
   "execution_count": 281,
   "metadata": {},
   "outputs": [
    {
     "data": {
      "text/plain": [
       "4"
      ]
     },
     "execution_count": 281,
     "metadata": {},
     "output_type": "execute_result"
    }
   ],
   "source": [
    "max(Dd)"
   ]
  },
  {
   "cell_type": "code",
   "execution_count": 280,
   "metadata": {},
   "outputs": [
    {
     "data": {
      "image/png": "[encoded data removed]",
      "text/plain": [
       "<Figure size 432x288 with 1 Axes>"
      ]
     },
     "metadata": {
      "needs_background": "light"
     },
     "output_type": "display_data"
    }
   ],
   "source": [
    "# img = np.flip(img, axis = 1)\n",
    "cutoff = 3\n",
    "T = 4\n",
    "Dh =  SPAM_Dh(img, cutoff, T)\n",
    "Dv =  SPAM_Dv(img, cutoff, T)\n",
    "\n",
    "Dd =  SPAM_Dd(img, cutoff, cutoff, T)\n",
    "\n",
    "# data = np.random.normal(0, 20, 1000) \n",
    "lim = 5\n",
    "# fixed bin size\n",
    "bins = np.arange(-lim, lim, 1) # fixed bin size\n",
    "\n",
    "plt.xlim([-lim, lim])\n",
    "\n",
    "plt.hist(Dd, bins=bins, alpha=0.5)\n",
    "plt.title('Random Gaussian data (fixed bin size)')\n",
    "plt.xlabel('variable X (bin size = 1)')\n",
    "plt.ylabel('count')\n",
    "\n",
    "plt.show()"
   ]
  },
  {
   "cell_type": "code",
   "execution_count": null,
   "metadata": {},
   "outputs": [],
   "source": [
    "z = Counter(zip(x, x[1:]))\n",
    "for i in Counter(zip(x, x[1:])):\n",
    "    print(i)\n",
    "    \n",
    "for k,v in z.items():\n",
    "    print(v)"
   ]
  },
  {
   "cell_type": "code",
   "execution_count": null,
   "metadata": {},
   "outputs": [],
   "source": [
    "# for (i,j), c in Counter(zip(x, x[1:])).items():\n",
    "#     b[i-1,j-1] = c"
   ]
  },
  {
   "cell_type": "code",
   "execution_count": null,
   "metadata": {},
   "outputs": [],
   "source": [
    "%timeit transition_matrix(x)"
   ]
  },
  {
   "cell_type": "code",
   "execution_count": null,
   "metadata": {},
   "outputs": [],
   "source": [
    "x = [0,1,1,1,1,0,1,1,1,1,0]\n",
    "print(transition_matrix(x))"
   ]
  },
  {
   "cell_type": "code",
   "execution_count": 285,
   "metadata": {
    "scrolled": true
   },
   "outputs": [
    {
     "name": "stdout",
     "output_type": "stream",
     "text": [
      "0\n",
      "100\n",
      "200\n",
      "300\n",
      "400\n",
      "500\n",
      "Done Covers\n",
      "0\n",
      "../UERD/00001.jpg\n",
      "../UERD/00002.jpg\n",
      "../UERD/00003.jpg\n",
      "../UERD/00004.jpg\n",
      "../UERD/00005.jpg\n",
      "../UERD/00007.jpg\n",
      "../UERD/00008.jpg\n",
      "../UERD/00009.jpg\n",
      "../UERD/00010.jpg\n",
      "../UERD/00011.jpg\n",
      "../UERD/00013.jpg\n",
      "../UERD/00014.jpg\n",
      "../UERD/00015.jpg\n",
      "../UERD/00016.jpg\n",
      "../UERD/00017.jpg\n",
      "../UERD/00018.jpg\n",
      "../UERD/00019.jpg\n",
      "../UERD/00020.jpg\n",
      "../UERD/00021.jpg\n",
      "../UERD/00022.jpg\n",
      "../UERD/00023.jpg\n",
      "../UERD/00024.jpg\n",
      "../UERD/00025.jpg\n",
      "../UERD/00026.jpg\n",
      "../UERD/00027.jpg\n",
      "../UERD/00028.jpg\n",
      "../UERD/00029.jpg\n",
      "../UERD/00030.jpg\n",
      "../UERD/00031.jpg\n",
      "../UERD/00032.jpg\n",
      "../UERD/00033.jpg\n",
      "../UERD/00035.jpg\n",
      "../UERD/00036.jpg\n",
      "../UERD/00037.jpg\n",
      "../UERD/00038.jpg\n",
      "../UERD/00039.jpg\n",
      "../UERD/00040.jpg\n",
      "../UERD/00041.jpg\n",
      "../UERD/00042.jpg\n",
      "../UERD/00043.jpg\n",
      "../UERD/00044.jpg\n",
      "../UERD/00045.jpg\n",
      "../UERD/00046.jpg\n",
      "../UERD/00047.jpg\n",
      "../UERD/00048.jpg\n",
      "../UERD/00050.jpg\n",
      "../UERD/00052.jpg\n",
      "../UERD/00053.jpg\n",
      "../UERD/00054.jpg\n",
      "../UERD/00055.jpg\n",
      "../UERD/00056.jpg\n",
      "../UERD/00057.jpg\n",
      "../UERD/00058.jpg\n",
      "../UERD/00059.jpg\n",
      "../UERD/00060.jpg\n",
      "../UERD/00061.jpg\n",
      "../UERD/00062.jpg\n",
      "../UERD/00064.jpg\n",
      "../UERD/00065.jpg\n",
      "../UERD/00066.jpg\n",
      "../UERD/00067.jpg\n",
      "../UERD/00068.jpg\n",
      "../UERD/00069.jpg\n",
      "../UERD/00070.jpg\n",
      "../UERD/00071.jpg\n",
      "../UERD/00072.jpg\n",
      "../UERD/00073.jpg\n",
      "../UERD/00074.jpg\n",
      "../UERD/00075.jpg\n",
      "../UERD/00076.jpg\n",
      "../UERD/00077.jpg\n",
      "../UERD/00078.jpg\n",
      "../UERD/00079.jpg\n",
      "../UERD/00081.jpg\n",
      "../UERD/00082.jpg\n",
      "../UERD/00083.jpg\n",
      "../UERD/00084.jpg\n",
      "../UERD/00085.jpg\n",
      "../UERD/00086.jpg\n",
      "../UERD/00087.jpg\n",
      "../UERD/00088.jpg\n",
      "../UERD/00089.jpg\n",
      "../UERD/00090.jpg\n",
      "../UERD/00091.jpg\n",
      "../UERD/00092.jpg\n",
      "../UERD/00094.jpg\n",
      "../UERD/00095.jpg\n",
      "../UERD/00096.jpg\n",
      "../UERD/00097.jpg\n",
      "../UERD/00099.jpg\n",
      "../UERD/00100.jpg\n",
      "../UERD/00101.jpg\n",
      "../UERD/00102.jpg\n",
      "../UERD/00103.jpg\n",
      "../UERD/00104.jpg\n",
      "../UERD/00105.jpg\n",
      "../UERD/00106.jpg\n",
      "../UERD/00107.jpg\n",
      "../UERD/00108.jpg\n",
      "../UERD/00110.jpg\n",
      "100\n",
      "../UERD/00111.jpg\n",
      "../UERD/00112.jpg\n",
      "../UERD/00114.jpg\n",
      "../UERD/00115.jpg\n",
      "../UERD/00116.jpg\n",
      "../UERD/00117.jpg\n",
      "../UERD/00118.jpg\n",
      "../UERD/00119.jpg\n",
      "../UERD/00120.jpg\n",
      "../UERD/00121.jpg\n",
      "../UERD/00122.jpg\n",
      "../UERD/00123.jpg\n",
      "../UERD/00124.jpg\n",
      "../UERD/00125.jpg\n",
      "../UERD/00126.jpg\n",
      "../UERD/00127.jpg\n",
      "../UERD/00128.jpg\n",
      "../UERD/00129.jpg\n",
      "../UERD/00130.jpg\n",
      "../UERD/00131.jpg\n",
      "../UERD/00132.jpg\n",
      "../UERD/00133.jpg\n",
      "../UERD/00134.jpg\n",
      "../UERD/00135.jpg\n",
      "../UERD/00136.jpg\n",
      "../UERD/00137.jpg\n",
      "../UERD/00138.jpg\n",
      "../UERD/00140.jpg\n",
      "../UERD/00142.jpg\n",
      "../UERD/00143.jpg\n",
      "../UERD/00144.jpg\n",
      "../UERD/00145.jpg\n",
      "../UERD/00146.jpg\n",
      "../UERD/00147.jpg\n",
      "../UERD/00148.jpg\n",
      "../UERD/00149.jpg\n",
      "../UERD/00150.jpg\n",
      "../UERD/00151.jpg\n",
      "../UERD/00152.jpg\n",
      "../UERD/00153.jpg\n",
      "../UERD/00154.jpg\n",
      "../UERD/00155.jpg\n",
      "../UERD/00156.jpg\n",
      "../UERD/00157.jpg\n",
      "../UERD/00159.jpg\n",
      "../UERD/00161.jpg\n",
      "../UERD/00162.jpg\n",
      "../UERD/00163.jpg\n",
      "../UERD/00164.jpg\n",
      "../UERD/00165.jpg\n",
      "../UERD/00166.jpg\n",
      "../UERD/00167.jpg\n",
      "../UERD/00168.jpg\n",
      "../UERD/00169.jpg\n",
      "../UERD/00170.jpg\n",
      "../UERD/00171.jpg\n",
      "../UERD/00172.jpg\n",
      "../UERD/00173.jpg\n",
      "../UERD/00174.jpg\n",
      "../UERD/00175.jpg\n",
      "../UERD/00176.jpg\n",
      "../UERD/00177.jpg\n",
      "../UERD/00178.jpg\n",
      "../UERD/00179.jpg\n",
      "../UERD/00180.jpg\n",
      "../UERD/00181.jpg\n",
      "../UERD/00182.jpg\n",
      "../UERD/00183.jpg\n",
      "../UERD/00184.jpg\n",
      "../UERD/00185.jpg\n",
      "../UERD/00186.jpg\n",
      "../UERD/00187.jpg\n",
      "../UERD/00188.jpg\n",
      "../UERD/00189.jpg\n",
      "../UERD/00190.jpg\n",
      "../UERD/00191.jpg\n",
      "../UERD/00192.jpg\n",
      "../UERD/00193.jpg\n",
      "../UERD/00194.jpg\n",
      "../UERD/00195.jpg\n",
      "../UERD/00196.jpg\n",
      "../UERD/00197.jpg\n",
      "../UERD/00198.jpg\n",
      "../UERD/00199.jpg\n",
      "../UERD/00200.jpg\n",
      "../UERD/00202.jpg\n",
      "../UERD/00203.jpg\n",
      "../UERD/00205.jpg\n",
      "../UERD/00206.jpg\n",
      "../UERD/00208.jpg\n",
      "../UERD/00209.jpg\n",
      "../UERD/00210.jpg\n",
      "../UERD/00211.jpg\n",
      "../UERD/00212.jpg\n",
      "../UERD/00213.jpg\n",
      "../UERD/00214.jpg\n",
      "../UERD/00215.jpg\n",
      "../UERD/00216.jpg\n",
      "../UERD/00217.jpg\n",
      "../UERD/00219.jpg\n",
      "200\n",
      "../UERD/00220.jpg\n",
      "../UERD/00221.jpg\n",
      "../UERD/00222.jpg\n",
      "../UERD/00223.jpg\n",
      "../UERD/00224.jpg\n",
      "../UERD/00225.jpg\n",
      "../UERD/00226.jpg\n",
      "../UERD/00227.jpg\n",
      "../UERD/00228.jpg\n",
      "../UERD/00229.jpg\n",
      "../UERD/00230.jpg\n",
      "../UERD/00232.jpg\n",
      "../UERD/00233.jpg\n",
      "../UERD/00235.jpg\n",
      "../UERD/00237.jpg\n",
      "../UERD/00238.jpg\n",
      "../UERD/00239.jpg\n",
      "../UERD/00240.jpg\n",
      "../UERD/00241.jpg\n",
      "../UERD/00242.jpg\n",
      "../UERD/00243.jpg\n",
      "../UERD/00244.jpg\n",
      "../UERD/00245.jpg\n",
      "../UERD/00246.jpg\n",
      "../UERD/00247.jpg\n",
      "../UERD/00248.jpg\n",
      "../UERD/00249.jpg\n",
      "../UERD/00250.jpg\n",
      "../UERD/00251.jpg\n",
      "../UERD/00252.jpg\n",
      "../UERD/00253.jpg\n",
      "../UERD/00254.jpg\n",
      "../UERD/00255.jpg\n",
      "../UERD/00256.jpg\n",
      "../UERD/00257.jpg\n",
      "../UERD/00258.jpg\n",
      "../UERD/00259.jpg\n",
      "../UERD/00260.jpg\n",
      "../UERD/00261.jpg\n",
      "../UERD/00262.jpg\n",
      "../UERD/00263.jpg\n",
      "../UERD/00264.jpg\n",
      "../UERD/00265.jpg\n",
      "../UERD/00266.jpg\n",
      "../UERD/00267.jpg\n",
      "../UERD/00269.jpg\n",
      "../UERD/00270.jpg\n",
      "../UERD/00271.jpg\n",
      "../UERD/00272.jpg\n",
      "../UERD/00273.jpg\n",
      "../UERD/00274.jpg\n",
      "../UERD/00275.jpg\n",
      "../UERD/00276.jpg\n",
      "../UERD/00277.jpg\n",
      "../UERD/00278.jpg\n",
      "../UERD/00279.jpg\n",
      "../UERD/00280.jpg\n",
      "../UERD/00281.jpg\n",
      "../UERD/00283.jpg\n",
      "../UERD/00284.jpg\n",
      "../UERD/00285.jpg\n",
      "../UERD/00286.jpg\n",
      "../UERD/00287.jpg\n",
      "../UERD/00288.jpg\n",
      "../UERD/00289.jpg\n",
      "../UERD/00290.jpg\n",
      "../UERD/00291.jpg\n",
      "../UERD/00292.jpg\n",
      "../UERD/00293.jpg\n",
      "../UERD/00294.jpg\n",
      "../UERD/00295.jpg\n",
      "../UERD/00296.jpg\n",
      "../UERD/00297.jpg\n",
      "../UERD/00298.jpg\n",
      "../UERD/00299.jpg\n",
      "../UERD/00300.jpg\n",
      "../UERD/00301.jpg\n",
      "../UERD/00302.jpg\n",
      "../UERD/00303.jpg\n",
      "../UERD/00304.jpg\n",
      "../UERD/00305.jpg\n",
      "../UERD/00306.jpg\n",
      "../UERD/00307.jpg\n",
      "../UERD/00308.jpg\n",
      "../UERD/00309.jpg\n",
      "../UERD/00310.jpg\n",
      "../UERD/00311.jpg\n",
      "../UERD/00312.jpg\n",
      "../UERD/00313.jpg\n",
      "../UERD/00314.jpg\n",
      "../UERD/00317.jpg\n",
      "../UERD/00318.jpg\n",
      "../UERD/00319.jpg\n",
      "../UERD/00320.jpg\n",
      "../UERD/00321.jpg\n",
      "../UERD/00322.jpg\n",
      "../UERD/00323.jpg\n",
      "../UERD/00324.jpg\n",
      "../UERD/00325.jpg\n",
      "../UERD/00326.jpg\n",
      "300\n",
      "../UERD/00327.jpg\n",
      "../UERD/00328.jpg\n",
      "../UERD/00330.jpg\n",
      "../UERD/00331.jpg\n",
      "../UERD/00332.jpg\n",
      "../UERD/00333.jpg\n",
      "../UERD/00334.jpg\n",
      "../UERD/00335.jpg\n",
      "../UERD/00336.jpg\n",
      "../UERD/00337.jpg\n",
      "../UERD/00338.jpg\n",
      "../UERD/00339.jpg\n",
      "../UERD/00340.jpg\n",
      "../UERD/00341.jpg\n",
      "../UERD/00342.jpg\n",
      "../UERD/00343.jpg\n",
      "../UERD/00344.jpg\n",
      "../UERD/00345.jpg\n",
      "../UERD/00346.jpg\n",
      "../UERD/00347.jpg\n",
      "../UERD/00348.jpg\n",
      "../UERD/00349.jpg\n",
      "../UERD/00350.jpg\n",
      "../UERD/00351.jpg\n",
      "../UERD/00352.jpg\n",
      "../UERD/00353.jpg\n",
      "../UERD/00354.jpg\n",
      "../UERD/00355.jpg\n",
      "../UERD/00356.jpg\n",
      "../UERD/00357.jpg\n",
      "../UERD/00359.jpg\n",
      "../UERD/00360.jpg\n",
      "../UERD/00361.jpg\n",
      "../UERD/00362.jpg\n",
      "../UERD/00363.jpg\n",
      "../UERD/00364.jpg\n",
      "../UERD/00365.jpg\n",
      "../UERD/00366.jpg\n",
      "../UERD/00367.jpg\n",
      "../UERD/00368.jpg\n",
      "../UERD/00369.jpg\n",
      "../UERD/00370.jpg\n",
      "../UERD/00371.jpg\n",
      "../UERD/00372.jpg\n",
      "../UERD/00373.jpg\n",
      "../UERD/00374.jpg\n",
      "../UERD/00375.jpg\n",
      "../UERD/00376.jpg\n",
      "../UERD/00377.jpg\n",
      "../UERD/00378.jpg\n",
      "../UERD/00380.jpg\n",
      "../UERD/00381.jpg\n",
      "../UERD/00382.jpg\n",
      "../UERD/00383.jpg\n",
      "../UERD/00384.jpg\n",
      "../UERD/00386.jpg\n",
      "../UERD/00387.jpg\n",
      "../UERD/00388.jpg\n",
      "../UERD/00389.jpg\n",
      "../UERD/00390.jpg\n",
      "../UERD/00391.jpg\n",
      "../UERD/00392.jpg\n",
      "../UERD/00393.jpg\n",
      "../UERD/00394.jpg\n",
      "../UERD/00395.jpg\n",
      "../UERD/00396.jpg\n",
      "../UERD/00397.jpg\n",
      "../UERD/00398.jpg\n",
      "../UERD/00399.jpg\n",
      "../UERD/00400.jpg\n",
      "../UERD/00401.jpg\n",
      "../UERD/00402.jpg\n",
      "../UERD/00403.jpg\n",
      "../UERD/00404.jpg\n",
      "../UERD/00405.jpg\n",
      "../UERD/00406.jpg\n",
      "../UERD/00407.jpg\n",
      "../UERD/00408.jpg\n",
      "../UERD/00409.jpg\n",
      "../UERD/00410.jpg\n",
      "../UERD/00412.jpg\n",
      "../UERD/00413.jpg\n",
      "../UERD/00414.jpg\n",
      "../UERD/00415.jpg\n",
      "../UERD/00416.jpg\n",
      "../UERD/00417.jpg\n",
      "../UERD/00418.jpg\n",
      "../UERD/00420.jpg\n",
      "../UERD/00421.jpg\n",
      "../UERD/00422.jpg\n",
      "../UERD/00423.jpg\n",
      "../UERD/00424.jpg\n",
      "../UERD/00425.jpg\n",
      "../UERD/00426.jpg\n",
      "../UERD/00427.jpg\n",
      "../UERD/00428.jpg\n",
      "../UERD/00429.jpg\n",
      "../UERD/00430.jpg\n",
      "../UERD/00432.jpg\n",
      "../UERD/00433.jpg\n",
      "400\n",
      "../UERD/00434.jpg\n",
      "../UERD/00435.jpg\n",
      "../UERD/00436.jpg\n",
      "../UERD/00437.jpg\n",
      "../UERD/00438.jpg\n",
      "../UERD/00439.jpg\n",
      "../UERD/00440.jpg\n",
      "../UERD/00442.jpg\n",
      "../UERD/00443.jpg\n",
      "../UERD/00444.jpg\n",
      "../UERD/00445.jpg\n",
      "../UERD/00446.jpg\n",
      "../UERD/00447.jpg\n",
      "../UERD/00448.jpg\n",
      "../UERD/00449.jpg\n",
      "../UERD/00450.jpg\n",
      "../UERD/00451.jpg\n",
      "../UERD/00452.jpg\n",
      "../UERD/00453.jpg\n",
      "../UERD/00454.jpg\n",
      "../UERD/00455.jpg\n",
      "../UERD/00456.jpg\n",
      "../UERD/00457.jpg\n",
      "../UERD/00458.jpg\n",
      "../UERD/00459.jpg\n",
      "../UERD/00460.jpg\n",
      "../UERD/00461.jpg\n",
      "../UERD/00462.jpg\n",
      "../UERD/00463.jpg\n",
      "../UERD/00465.jpg\n",
      "../UERD/00466.jpg\n",
      "../UERD/00468.jpg\n",
      "../UERD/00469.jpg\n",
      "../UERD/00470.jpg\n",
      "../UERD/00472.jpg\n",
      "../UERD/00473.jpg\n",
      "../UERD/00474.jpg\n",
      "../UERD/00475.jpg\n",
      "../UERD/00476.jpg\n",
      "../UERD/00477.jpg\n",
      "../UERD/00478.jpg\n",
      "../UERD/00479.jpg\n",
      "../UERD/00480.jpg\n",
      "../UERD/00481.jpg\n",
      "../UERD/00482.jpg\n",
      "../UERD/00483.jpg\n",
      "../UERD/00484.jpg\n",
      "../UERD/00485.jpg\n",
      "../UERD/00486.jpg\n",
      "../UERD/00487.jpg\n",
      "../UERD/00488.jpg\n",
      "../UERD/00490.jpg\n",
      "../UERD/00491.jpg\n"
     ]
    },
    {
     "name": "stdout",
     "output_type": "stream",
     "text": [
      "../UERD/00492.jpg\n",
      "../UERD/00493.jpg\n",
      "../UERD/00494.jpg\n",
      "../UERD/00495.jpg\n",
      "../UERD/00496.jpg\n",
      "../UERD/00497.jpg\n",
      "../UERD/00498.jpg\n",
      "../UERD/00499.jpg\n",
      "../UERD/00500.jpg\n",
      "../UERD/00501.jpg\n",
      "../UERD/00503.jpg\n",
      "../UERD/00504.jpg\n",
      "../UERD/00505.jpg\n",
      "../UERD/00506.jpg\n",
      "../UERD/00507.jpg\n",
      "../UERD/00508.jpg\n",
      "../UERD/00509.jpg\n",
      "../UERD/00510.jpg\n",
      "../UERD/00511.jpg\n",
      "../UERD/00512.jpg\n",
      "../UERD/00513.jpg\n",
      "../UERD/00514.jpg\n",
      "../UERD/00515.jpg\n",
      "../UERD/00516.jpg\n",
      "../UERD/00517.jpg\n",
      "../UERD/00518.jpg\n",
      "../UERD/00519.jpg\n",
      "../UERD/00520.jpg\n",
      "../UERD/00521.jpg\n",
      "../UERD/00522.jpg\n",
      "../UERD/00524.jpg\n",
      "../UERD/00525.jpg\n",
      "../UERD/00526.jpg\n",
      "../UERD/00527.jpg\n",
      "../UERD/00529.jpg\n",
      "../UERD/00530.jpg\n",
      "../UERD/00531.jpg\n",
      "../UERD/00533.jpg\n",
      "../UERD/00534.jpg\n",
      "../UERD/00535.jpg\n",
      "../UERD/00536.jpg\n",
      "../UERD/00537.jpg\n",
      "../UERD/00538.jpg\n",
      "../UERD/00539.jpg\n",
      "../UERD/00540.jpg\n",
      "../UERD/00541.jpg\n",
      "../UERD/00542.jpg\n",
      "500\n",
      "../UERD/00543.jpg\n",
      "../UERD/00544.jpg\n",
      "../UERD/00545.jpg\n",
      "../UERD/00546.jpg\n",
      "../UERD/00547.jpg\n",
      "../UERD/00549.jpg\n",
      "../UERD/00550.jpg\n",
      "../UERD/00551.jpg\n",
      "../UERD/00552.jpg\n",
      "../UERD/00553.jpg\n",
      "../UERD/00554.jpg\n",
      "../UERD/00555.jpg\n",
      "../UERD/00556.jpg\n",
      "../UERD/00557.jpg\n",
      "../UERD/00558.jpg\n",
      "../UERD/00559.jpg\n",
      "../UERD/00560.jpg\n",
      "../UERD/00561.jpg\n",
      "../UERD/00562.jpg\n",
      "../UERD/00563.jpg\n",
      "../UERD/00564.jpg\n",
      "../UERD/00566.jpg\n",
      "../UERD/00567.jpg\n",
      "../UERD/00568.jpg\n",
      "../UERD/00569.jpg\n",
      "../UERD/00570.jpg\n",
      "../UERD/00572.jpg\n",
      "../UERD/00573.jpg\n",
      "../UERD/00574.jpg\n",
      "../UERD/00575.jpg\n",
      "../UERD/00576.jpg\n",
      "../UERD/00577.jpg\n",
      "../UERD/00578.jpg\n",
      "../UERD/00579.jpg\n",
      "../UERD/00580.jpg\n",
      "../UERD/00581.jpg\n",
      "../UERD/00582.jpg\n",
      "../UERD/00583.jpg\n",
      "../UERD/00584.jpg\n",
      "../UERD/00585.jpg\n",
      "../UERD/00586.jpg\n",
      "../UERD/00587.jpg\n",
      "../UERD/00588.jpg\n",
      "../UERD/00589.jpg\n",
      "../UERD/00590.jpg\n",
      "../UERD/00591.jpg\n",
      "../UERD/00592.jpg\n",
      "../UERD/00593.jpg\n",
      "../UERD/00594.jpg\n",
      "../UERD/00595.jpg\n",
      "../UERD/00596.jpg\n",
      "../UERD/00597.jpg\n",
      "../UERD/00598.jpg\n",
      "../UERD/00599.jpg\n",
      "../UERD/00600.jpg\n",
      "../UERD/00602.jpg\n",
      "../UERD/00603.jpg\n",
      "../UERD/00604.jpg\n",
      "../UERD/00605.jpg\n",
      "../UERD/00606.jpg\n",
      "../UERD/00607.jpg\n",
      "../UERD/00608.jpg\n",
      "../UERD/00609.jpg\n",
      "../UERD/00610.jpg\n",
      "../UERD/00611.jpg\n",
      "../UERD/00612.jpg\n",
      "../UERD/00613.jpg\n",
      "../UERD/00615.jpg\n",
      "../UERD/00616.jpg\n",
      "../UERD/00617.jpg\n",
      "../UERD/00618.jpg\n",
      "../UERD/00619.jpg\n",
      "../UERD/00620.jpg\n",
      "../UERD/00621.jpg\n",
      "../UERD/00622.jpg\n",
      "../UERD/00623.jpg\n",
      "../UERD/00624.jpg\n",
      "../UERD/00625.jpg\n",
      "../UERD/00627.jpg\n",
      "../UERD/00628.jpg\n",
      "../UERD/00630.jpg\n",
      "../UERD/00631.jpg\n",
      "../UERD/00632.jpg\n",
      "../UERD/00633.jpg\n",
      "../UERD/00634.jpg\n",
      "../UERD/00635.jpg\n",
      "../UERD/00636.jpg\n",
      "../UERD/00637.jpg\n",
      "../UERD/00638.jpg\n",
      "../UERD/00639.jpg\n",
      "../UERD/00640.jpg\n",
      "../UERD/00642.jpg\n",
      "../UERD/00643.jpg\n",
      "../UERD/00644.jpg\n",
      "../UERD/00646.jpg\n",
      "../UERD/00647.jpg\n",
      "../UERD/00648.jpg\n",
      "../UERD/00649.jpg\n",
      "../UERD/00650.jpg\n",
      "../UERD/00651.jpg\n",
      "Done U\n"
     ]
    }
   ],
   "source": [
    "T = 3\n",
    "jump = 3\n",
    "X_train = []\n",
    "X_test = []\n",
    "y_train = []\n",
    "y_test = []\n",
    "train_test_split_ = 500\n",
    "for i, fname in enumerate(cover_fnames):\n",
    "    img = cv2.imread(fname)\n",
    "    img = cv2.cvtColor(img, cv2.COLOR_BGR2YCR_CB)\n",
    "    # get the Y \n",
    "    img = img[:,:,0]\n",
    "    img = img.astype(int)\n",
    "    Dh_cover, Dv_cover, Dd_cover, Dm_cover = transition_matrix(SPAM_Dh(img, jump, T)+T, T), \\\n",
    "    transition_matrix(SPAM_Dv(img, jump, T)+T, T), transition_matrix(SPAM_Dd(img, jump, jump, T)+T, T), \\\n",
    "    transition_matrix(SPAM_Dd(np.flip(img, axis = 1), jump, jump, T)+T, T)\n",
    "    hold = np.append(Dh_cover.ravel(), Dv_cover.ravel())\n",
    "    hold = np.append(hold, Dd_cover.ravel())\n",
    "    hold = np.append(hold, Dm_cover.ravel())    \n",
    "    if i < train_test_split_:\n",
    "        X_train.append(hold)\n",
    "        y_train.append(0)\n",
    "    else:\n",
    "        X_test.append(hold)\n",
    "        y_test.append(0)\n",
    "    if i%100==0:\n",
    "        print(i)\n",
    "        \n",
    "print('Done Covers')\n",
    "\n",
    "# for i, fname in enumerate(juniward_fnames):\n",
    "#     img = cv2.imread(fname)\n",
    "#     img = cv2.cvtColor(img, cv2.COLOR_BGR2YCR_CB)\n",
    "#     # get the Y \n",
    "#     img = img[:,:,0]\n",
    "#     img = img.astype(int)\n",
    "#     Dh_cover, Dv_cover, Dd_cover, Dm_cover = transition_matrix(SPAM_Dh(img, 0, 3, T)+T), \\\n",
    "#     transition_matrix(SPAM_Dv(img, 3, 0, T)+T), transition_matrix(SPAM_Dd(img, 3, 3, T)+T), \\\n",
    "#     transition_matrix(SPAM_Dd(np.flip(img, axis = 1), 3, 3, T)+T)\n",
    "#     hold = np.append(Dh_cover.ravel(), Dv_cover.ravel())\n",
    "#     hold = np.append(hold, Dd_cover.ravel())\n",
    "#     hold = np.append(hold, Dm_cover.ravel())\n",
    "#     if i < train_test_split_:\n",
    "#         X_train.append(hold)\n",
    "#         y_train.append(1)\n",
    "#     else:\n",
    "#         X_test.append(hold)\n",
    "#         y_test.append(1)\n",
    "#     if i%100==0:\n",
    "#         print(i)\n",
    "        \n",
    "# print('Done J')\n",
    "        \n",
    "# for i, fname in enumerate(jmipod_fnames):\n",
    "#     img = cv2.imread(fname)\n",
    "#     img = cv2.cvtColor(img, cv2.COLOR_BGR2YCR_CB)\n",
    "#     # get the Y \n",
    "#     img = img[:,:,0]\n",
    "#     img = img.astype(int)\n",
    "#     Dh_cover, Dv_cover, Dd_cover, Dm_cover = transition_matrix(SPAM_Dh(img, 0, 3, T)+T), \\\n",
    "#     transition_matrix(SPAM_Dv(img, 3, 0, T)+T), transition_matrix(SPAM_Dd(img, 3, 3, T)+T), \\\n",
    "#     transition_matrix(SPAM_Dd(np.flip(img, axis = 1), 3, 3, T)+T)\n",
    "#     hold = np.append(Dh_cover.ravel(), Dv_cover.ravel())\n",
    "#     hold = np.append(hold, Dd_cover.ravel())\n",
    "#     hold = np.append(hold, Dm_cover.ravel())\n",
    "#     if i < train_test_split_:\n",
    "#         X_train.append(hold)\n",
    "#         y_train.append(1)\n",
    "#     else:\n",
    "#         X_test.append(hold)\n",
    "#         y_test.append(1)\n",
    "#     if i%100==0:\n",
    "#         print(i)\n",
    "        \n",
    "# print('Done J')\n",
    "        \n",
    "for i, fname in enumerate(uerd_fnames):\n",
    "    img = cv2.imread(fname)\n",
    "    img = cv2.cvtColor(img, cv2.COLOR_BGR2YCR_CB)\n",
    "    # get the Y \n",
    "    img = img[:,:,0]\n",
    "    img = img.astype(int)\n",
    "    Dh_cover, Dv_cover, Dd_cover, Dm_cover = transition_matrix(SPAM_Dh(img, jump, T)+T, T), \\\n",
    "    transition_matrix(SPAM_Dv(img, jump, T)+T, T), transition_matrix(SPAM_Dd(img, jump, jump, T)+T, T), \\\n",
    "    transition_matrix(SPAM_Dd(np.flip(img, axis = 1), jump, jump, T)+T, T)\n",
    "    hold = np.append(Dh_cover.ravel(), Dv_cover.ravel())\n",
    "    hold = np.append(hold, Dd_cover.ravel())\n",
    "    hold = np.append(hold, Dm_cover.ravel())\n",
    "    if i < train_test_split_:\n",
    "        X_train.append(hold)\n",
    "        y_train.append(1)\n",
    "    else:\n",
    "        X_test.append(hold)\n",
    "        y_test.append(1)\n",
    "    if i%100==0:\n",
    "        print(i)\n",
    "#     print(fname)\n",
    "        \n",
    "print('Done U')"
   ]
  },
  {
   "cell_type": "code",
   "execution_count": 143,
   "metadata": {},
   "outputs": [
    {
     "name": "stdout",
     "output_type": "stream",
     "text": [
      "44129\n"
     ]
    },
    {
     "data": {
      "image/png": "[encoded data removed]",
      "text/plain": [
       "<Figure size 432x288 with 1 Axes>"
      ]
     },
     "metadata": {
      "needs_background": "light"
     },
     "output_type": "display_data"
    }
   ],
   "source": [
    "img_u = cv2.imread(juniward_fnames[110])\n",
    "img_u = cv2.cvtColor(img_u, cv2.COLOR_BGR2YCR_CB)\n",
    "# get the Y \n",
    "img_u = img_u[:,:,0]\n",
    "img_u = img_u.astype(int)\n",
    "\n",
    "Dh = SPAM_Dd(img_u, 3, 3, T)#+T\n",
    "print(len(Dh))\n",
    "# data = np.random.normal(0, 20, 1000) \n",
    "lim = 5\n",
    "# fixed bin size\n",
    "bins = np.arange(-lim, lim, 1) # fixed bin size\n",
    "\n",
    "plt.xlim([-lim, lim])\n",
    "\n",
    "plt.hist(Dh, bins=bins, alpha=0.5)\n",
    "plt.title('Random Gaussian data (fixed bin size)')\n",
    "plt.xlabel('variable X (bin size = 1)')\n",
    "plt.ylabel('count')\n",
    "\n",
    "plt.show()"
   ]
  },
  {
   "cell_type": "code",
   "execution_count": 144,
   "metadata": {},
   "outputs": [
    {
     "name": "stdout",
     "output_type": "stream",
     "text": [
      "44157\n"
     ]
    },
    {
     "data": {
      "image/png": "[encoded data removed]",
      "text/plain": [
       "<Figure size 432x288 with 1 Axes>"
      ]
     },
     "metadata": {
      "needs_background": "light"
     },
     "output_type": "display_data"
    }
   ],
   "source": [
    "img_cov = cv2.imread(cover_fnames[110])\n",
    "img_cov = cv2.cvtColor(img_cov, cv2.COLOR_BGR2YCR_CB)\n",
    "# get the Y \n",
    "img_cov = img_cov[:,:,0]\n",
    "img_cov = img_cov.astype(int)\n",
    "\n",
    "Dh = SPAM_Dd(img_cov, 3, 3, T)#+T\n",
    "print(len(Dh))\n",
    "# data = np.random.normal(0, 20, 1000) \n",
    "lim = 5\n",
    "# fixed bin size\n",
    "bins = np.arange(-lim, lim, 1) # fixed bin size\n",
    "\n",
    "plt.xlim([-lim, lim])\n",
    "\n",
    "plt.hist(Dh, bins=bins, alpha=0.5)\n",
    "plt.title('Random Gaussian data (fixed bin size)')\n",
    "plt.xlabel('variable X (bin size = 1)')\n",
    "plt.ylabel('count')\n",
    "\n",
    "plt.show()"
   ]
  },
  {
   "cell_type": "code",
   "execution_count": null,
   "metadata": {},
   "outputs": [],
   "source": [
    "# lim = 5\n",
    "# # fixed bin size\n",
    "# bins = np.arange(-lim, lim, 1) # fixed bin size\n",
    "\n",
    "# plt.xlim([-lim, lim])\n",
    "\n",
    "# plt.hist(diff, bins=bins, alpha=0.5)\n",
    "# plt.title('Random Gaussian data (fixed bin size)')\n",
    "# plt.xlabel('variable X (bin size = 1)')\n",
    "# plt.ylabel('count')\n",
    "\n",
    "# plt.show()"
   ]
  },
  {
   "cell_type": "code",
   "execution_count": null,
   "metadata": {},
   "outputs": [],
   "source": [
    "for i in range(len(X_train)):\n",
    "    if X_train[i].shape[0] != 196:\n",
    "        print(i)"
   ]
  },
  {
   "cell_type": "code",
   "execution_count": null,
   "metadata": {},
   "outputs": [],
   "source": [
    "# X = np.delete(X_train, [1487, 9487], axis=0)\n",
    "# y = np.delete(y_train, [1487, 9487], axis=0)"
   ]
  },
  {
   "cell_type": "code",
   "execution_count": 145,
   "metadata": {},
   "outputs": [],
   "source": [
    "from sklearn import preprocessing\n",
    "from sklearn.svm import SVC"
   ]
  },
  {
   "cell_type": "code",
   "execution_count": 295,
   "metadata": {},
   "outputs": [],
   "source": [
    "from sklearn.utils import shuffle\n",
    "X, y = X_train.copy(), y_train.copy()# shuffle(X_train, y_train, random_state=0)"
   ]
  },
  {
   "cell_type": "code",
   "execution_count": 296,
   "metadata": {},
   "outputs": [],
   "source": [
    "X = list(X)\n",
    "y = list(y)"
   ]
  },
  {
   "cell_type": "code",
   "execution_count": 297,
   "metadata": {
    "scrolled": true
   },
   "outputs": [
    {
     "data": {
      "text/plain": [
       "array([0.17232211, 0.15864776, 0.16092682, 0.14472018, 0.12902001,\n",
       "       0.11876424, 0.11559889, 0.16415216, 0.15203095, 0.1521599 ,\n",
       "       0.14235977, 0.13913604, 0.12740168, 0.12275951, 0.15371822,\n",
       "       0.14813495, 0.14564029, 0.14991684, 0.14445236, 0.13245426,\n",
       "       0.12568306, 0.13670614, 0.1393374 , 0.1516565 , 0.15321134,\n",
       "       0.14471953, 0.13897859, 0.1353905 , 0.12718327, 0.12558426,\n",
       "       0.15166052, 0.15362854, 0.14784748, 0.14674047, 0.14735547,\n",
       "       0.11616797, 0.12333417, 0.14370128, 0.14043249, 0.15287905,\n",
       "       0.16054815, 0.16293689, 0.10903388, 0.1140527 , 0.13764115,\n",
       "       0.15119197, 0.14918444, 0.16060226, 0.1782936 , 0.16806471,\n",
       "       0.17106052, 0.15383463, 0.14304973, 0.13211504, 0.11758538,\n",
       "       0.11428999, 0.16321506, 0.15916003, 0.15597393, 0.14829833,\n",
       "       0.1352643 , 0.1204924 , 0.11759594, 0.15149778, 0.15522431,\n",
       "       0.15135445, 0.13931489, 0.13859825, 0.13472839, 0.12928193,\n",
       "       0.13624056, 0.14507624, 0.148354  , 0.14792646, 0.14208351,\n",
       "       0.13709562, 0.1432236 , 0.11904421, 0.1366433 , 0.13506939,\n",
       "       0.14880527, 0.1525254 , 0.15595936, 0.15195307, 0.11395683,\n",
       "       0.1171223 , 0.13338129, 0.1457554 , 0.15971223, 0.16676259,\n",
       "       0.16330935, 0.11426092, 0.11483946, 0.13089384, 0.14101822,\n",
       "       0.149407  , 0.17095748, 0.17862308, 0.16949938, 0.15930161,\n",
       "       0.15636588, 0.14616811, 0.13581582, 0.11866502, 0.11418418,\n",
       "       0.16819152, 0.15843245, 0.15218054, 0.13921927, 0.12991766,\n",
       "       0.1273254 , 0.12473315, 0.15041617, 0.15086207, 0.14982164,\n",
       "       0.14774078, 0.13956599, 0.13317479, 0.12841855, 0.13589744,\n",
       "       0.14147813, 0.14449472, 0.14630468, 0.14660633, 0.1479638 ,\n",
       "       0.1372549 , 0.12260883, 0.13526133, 0.13978009, 0.13797259,\n",
       "       0.15454135, 0.1536376 , 0.15619822, 0.11317692, 0.12940829,\n",
       "       0.14091781, 0.13722886, 0.14859082, 0.16423196, 0.16644533,\n",
       "       0.11790592, 0.11532625, 0.13186646, 0.14582701, 0.14628225,\n",
       "       0.17663126, 0.16616085, 0.16710526, 0.16710526, 0.15542763,\n",
       "       0.14440789, 0.13026316, 0.11595395, 0.11973684, 0.16599256,\n",
       "       0.15515289, 0.15321145, 0.14771073, 0.1386507 , 0.1247371 ,\n",
       "       0.11454457, 0.15128328, 0.16148573, 0.1503268 , 0.14267496,\n",
       "       0.13454487, 0.13055954, 0.12912482, 0.14185191, 0.14057253,\n",
       "       0.14792899, 0.14345114, 0.1383336 , 0.14952823, 0.1383336 ,\n",
       "       0.13103448, 0.12510024, 0.14434643, 0.14835605, 0.15525261,\n",
       "       0.14947875, 0.14643144, 0.11772316, 0.12629366, 0.13114489,\n",
       "       0.14036223, 0.1566947 , 0.16025226, 0.16752911, 0.10848745,\n",
       "       0.1243395 , 0.13243065, 0.14481506, 0.15505284, 0.17040951,\n",
       "       0.16446499])"
      ]
     },
     "execution_count": 297,
     "metadata": {},
     "output_type": "execute_result"
    }
   ],
   "source": [
    "X[2]"
   ]
  },
  {
   "cell_type": "code",
   "execution_count": 298,
   "metadata": {},
   "outputs": [],
   "source": [
    "for i in range(len(X)):\n",
    "    if X[i].shape[0] != 196:\n",
    "        print(i)"
   ]
  },
  {
   "cell_type": "code",
   "execution_count": 299,
   "metadata": {},
   "outputs": [],
   "source": [
    "# X = np.delete(X, [9231, 9530], axis=0)\n",
    "# y = np.delete(y, [9231, 9530], axis=0)"
   ]
  },
  {
   "cell_type": "code",
   "execution_count": 300,
   "metadata": {},
   "outputs": [
    {
     "data": {
      "text/plain": [
       "list"
      ]
     },
     "execution_count": 300,
     "metadata": {},
     "output_type": "execute_result"
    }
   ],
   "source": [
    "type(X_train)"
   ]
  },
  {
   "cell_type": "code",
   "execution_count": 301,
   "metadata": {},
   "outputs": [
    {
     "data": {
      "text/plain": [
       "list"
      ]
     },
     "execution_count": 301,
     "metadata": {},
     "output_type": "execute_result"
    }
   ],
   "source": [
    "type(X)"
   ]
  },
  {
   "cell_type": "code",
   "execution_count": 302,
   "metadata": {},
   "outputs": [
    {
     "data": {
      "text/plain": [
       "(1000, 196)"
      ]
     },
     "execution_count": 302,
     "metadata": {},
     "output_type": "execute_result"
    }
   ],
   "source": [
    "np.array(list(X)).shape"
   ]
  },
  {
   "cell_type": "code",
   "execution_count": 303,
   "metadata": {},
   "outputs": [
    {
     "data": {
      "text/plain": [
       "SVC(C=100, break_ties=False, cache_size=200, class_weight=None, coef0=0.0,\n",
       "    decision_function_shape='ovr', degree=3, gamma=100, kernel='rbf',\n",
       "    max_iter=-1, probability=True, random_state=42, shrinking=True, tol=0.001,\n",
       "    verbose=False)"
      ]
     },
     "execution_count": 303,
     "metadata": {},
     "output_type": "execute_result"
    }
   ],
   "source": [
    "# pca = PCA(n_components=12)\n",
    "# pca.fit(X)\n",
    "# X = pca.transform(X)\n",
    "\n",
    "svclassifier = SVC(kernel='rbf', random_state=42, gamma=100, C=100, degree=3, probability=True)\n",
    "svclassifier.fit(X, y)"
   ]
  },
  {
   "cell_type": "code",
   "execution_count": 304,
   "metadata": {},
   "outputs": [
    {
     "name": "stdout",
     "output_type": "stream",
     "text": [
      "[[480  20]\n",
      " [ 46 454]]\n",
      "              precision    recall  f1-score   support\n",
      "\n",
      "           0       0.91      0.96      0.94       500\n",
      "           1       0.96      0.91      0.93       500\n",
      "\n",
      "    accuracy                           0.93      1000\n",
      "   macro avg       0.94      0.93      0.93      1000\n",
      "weighted avg       0.94      0.93      0.93      1000\n",
      "\n"
     ]
    }
   ],
   "source": [
    "print(confusion_matrix(y, svclassifier.predict(X)))\n",
    "print(classification_report(y, svclassifier.predict(X)))"
   ]
  },
  {
   "cell_type": "code",
   "execution_count": 305,
   "metadata": {},
   "outputs": [
    {
     "name": "stdout",
     "output_type": "stream",
     "text": [
      "No Skill: ROC AUC=0.500\n",
      "Logistic: ROC AUC=0.011\n"
     ]
    },
    {
     "data": {
      "image/png": "[encoded data removed]",
      "text/plain": [
       "<Figure size 432x288 with 1 Axes>"
      ]
     },
     "metadata": {
      "needs_background": "light"
     },
     "output_type": "display_data"
    }
   ],
   "source": [
    "ns_probs = [0 for _ in range(len(y))]\n",
    "# predict probabilities\n",
    "lr_probs = svclassifier.predict_proba(X)\n",
    "# keep probabilities for the positive outcome only\n",
    "lr_probs = lr_probs[:, 1]\n",
    "# calculate scores\n",
    "ns_auc = roc_auc_score(y, ns_probs)\n",
    "lr_auc = roc_auc_score(y, lr_probs)\n",
    "# summarize scores\n",
    "print('No Skill: ROC AUC=%.3f' % (ns_auc))\n",
    "print('Logistic: ROC AUC=%.3f' % (lr_auc))\n",
    "# calculate roc curves\n",
    "ns_fpr, ns_tpr, _ = roc_curve(y, ns_probs)\n",
    "lr_fpr, lr_tpr, _ = roc_curve(y, lr_probs)\n",
    "# plot the roc curve for the model\n",
    "pyplot.plot(ns_fpr, ns_tpr, linestyle='--', label='No Skill')\n",
    "pyplot.plot(lr_fpr, lr_tpr, marker='.', label='Logistic')\n",
    "# axis labels\n",
    "pyplot.xlabel('False Positive Rate')\n",
    "pyplot.ylabel('True Positive Rate')\n",
    "# show the legend\n",
    "pyplot.legend()\n",
    "# show the plot\n",
    "pyplot.show()"
   ]
  },
  {
   "cell_type": "code",
   "execution_count": 306,
   "metadata": {},
   "outputs": [],
   "source": [
    "y_pred = svclassifier.predict(X_test)"
   ]
  },
  {
   "cell_type": "code",
   "execution_count": 307,
   "metadata": {},
   "outputs": [
    {
     "name": "stdout",
     "output_type": "stream",
     "text": [
      "[[60 40]\n",
      " [63 37]]\n",
      "              precision    recall  f1-score   support\n",
      "\n",
      "           0       0.49      0.60      0.54       100\n",
      "           1       0.48      0.37      0.42       100\n",
      "\n",
      "    accuracy                           0.48       200\n",
      "   macro avg       0.48      0.48      0.48       200\n",
      "weighted avg       0.48      0.48      0.48       200\n",
      "\n"
     ]
    }
   ],
   "source": [
    "print(confusion_matrix(y_test,y_pred))\n",
    "print(classification_report(y_test,y_pred))"
   ]
  },
  {
   "cell_type": "code",
   "execution_count": 226,
   "metadata": {},
   "outputs": [],
   "source": [
    "from sklearn.decomposition import PCA"
   ]
  },
  {
   "cell_type": "code",
   "execution_count": 237,
   "metadata": {},
   "outputs": [
    {
     "name": "stdout",
     "output_type": "stream",
     "text": [
      "Explained Variance: 0.9557395739285117\n"
     ]
    }
   ],
   "source": [
    "pca = PCA(n_components=5)\n",
    "fit = pca.fit(X)\n",
    "# summarize components\n",
    "print(\"Explained Variance: %s\" % sum(fit.explained_variance_ratio_))\n",
    "# print(fit.components_)"
   ]
  },
  {
   "cell_type": "code",
   "execution_count": 243,
   "metadata": {},
   "outputs": [
    {
     "data": {
      "text/plain": [
       "SVC(C=10, break_ties=False, cache_size=200, class_weight=None, coef0=0.0,\n",
       "    decision_function_shape='ovr', degree=5, gamma=100, kernel='rbf',\n",
       "    max_iter=-1, probability=True, random_state=42, shrinking=True, tol=0.001,\n",
       "    verbose=False)"
      ]
     },
     "execution_count": 243,
     "metadata": {},
     "output_type": "execute_result"
    }
   ],
   "source": [
    "X_pca = pca.transform(X)\n",
    "svclassifier = SVC(kernel='rbf', random_state=42, gamma=100, C=10, degree=5, probability=True)\n",
    "svclassifier.fit(X_pca, y)"
   ]
  },
  {
   "cell_type": "code",
   "execution_count": 244,
   "metadata": {},
   "outputs": [
    {
     "name": "stdout",
     "output_type": "stream",
     "text": [
      "[[340 160]\n",
      " [258 242]]\n",
      "              precision    recall  f1-score   support\n",
      "\n",
      "           0       0.57      0.68      0.62       500\n",
      "           1       0.60      0.48      0.54       500\n",
      "\n",
      "    accuracy                           0.58      1000\n",
      "   macro avg       0.59      0.58      0.58      1000\n",
      "weighted avg       0.59      0.58      0.58      1000\n",
      "\n"
     ]
    }
   ],
   "source": [
    "print(confusion_matrix(y, svclassifier.predict(X_pca)))\n",
    "print(classification_report(y, svclassifier.predict(X_pca)))"
   ]
  },
  {
   "cell_type": "code",
   "execution_count": 245,
   "metadata": {},
   "outputs": [
    {
     "name": "stdout",
     "output_type": "stream",
     "text": [
      "[[65 35]\n",
      " [61 39]]\n",
      "              precision    recall  f1-score   support\n",
      "\n",
      "           0       0.52      0.65      0.58       100\n",
      "           1       0.53      0.39      0.45       100\n",
      "\n",
      "    accuracy                           0.52       200\n",
      "   macro avg       0.52      0.52      0.51       200\n",
      "weighted avg       0.52      0.52      0.51       200\n",
      "\n"
     ]
    }
   ],
   "source": [
    "X_test_pca = pca.transform(X_test)\n",
    "y_pred = svclassifier.predict(X_test_pca)\n",
    "\n",
    "print(confusion_matrix(y_test,y_pred))\n",
    "print(classification_report(y_test,y_pred))"
   ]
  },
  {
   "cell_type": "code",
   "execution_count": 246,
   "metadata": {},
   "outputs": [
    {
     "name": "stdout",
     "output_type": "stream",
     "text": [
      "No Skill: ROC AUC=0.500\n",
      "Logistic: ROC AUC=0.494\n"
     ]
    },
    {
     "data": {
      "image/png": "[encoded data removed]",
      "text/plain": [
       "<Figure size 432x288 with 1 Axes>"
      ]
     },
     "metadata": {
      "needs_background": "light"
     },
     "output_type": "display_data"
    }
   ],
   "source": [
    "ns_probs = [0 for _ in range(len(y_test))]\n",
    "# predict probabilities\n",
    "lr_probs = svclassifier.predict_proba(X_test_pca)\n",
    "# keep probabilities for the positive outcome only\n",
    "lr_probs = lr_probs[:, 1]\n",
    "# calculate scores\n",
    "ns_auc = roc_auc_score(y_test, ns_probs)\n",
    "lr_auc = roc_auc_score(y_test, lr_probs)\n",
    "# summarize scores\n",
    "print('No Skill: ROC AUC=%.3f' % (ns_auc))\n",
    "print('Logistic: ROC AUC=%.3f' % (lr_auc))\n",
    "# calculate roc curves\n",
    "ns_fpr, ns_tpr, _ = roc_curve(y_test, ns_probs)\n",
    "lr_fpr, lr_tpr, _ = roc_curve(y_test, lr_probs)\n",
    "# plot the roc curve for the model\n",
    "pyplot.plot(ns_fpr, ns_tpr, linestyle='--', label='No Skill')\n",
    "pyplot.plot(lr_fpr, lr_tpr, marker='.', label='Logistic')\n",
    "# axis labels\n",
    "pyplot.xlabel('False Positive Rate')\n",
    "pyplot.ylabel('True Positive Rate')\n",
    "# show the legend\n",
    "pyplot.legend()\n",
    "# show the plot\n",
    "pyplot.show()"
   ]
  },
  {
   "cell_type": "code",
   "execution_count": 67,
   "metadata": {},
   "outputs": [
    {
     "name": "stdout",
     "output_type": "stream",
     "text": [
      "[[  12  488]\n",
      " [   0 1500]]\n",
      "              precision    recall  f1-score   support\n",
      "\n",
      "           0       1.00      0.02      0.05       500\n",
      "           1       0.75      1.00      0.86      1500\n",
      "\n",
      "    accuracy                           0.76      2000\n",
      "   macro avg       0.88      0.51      0.45      2000\n",
      "weighted avg       0.82      0.76      0.66      2000\n",
      "\n",
      "[[  0 100]\n",
      " [  0 300]]\n",
      "              precision    recall  f1-score   support\n",
      "\n",
      "           0       0.00      0.00      0.00       100\n",
      "           1       0.75      1.00      0.86       300\n",
      "\n",
      "    accuracy                           0.75       400\n",
      "   macro avg       0.38      0.50      0.43       400\n",
      "weighted avg       0.56      0.75      0.64       400\n",
      "\n"
     ]
    },
    {
     "name": "stderr",
     "output_type": "stream",
     "text": [
      "/home/usman/.virtualenvs/YOLO/lib/python3.6/site-packages/sklearn/metrics/_classification.py:1272: UndefinedMetricWarning: Precision and F-score are ill-defined and being set to 0.0 in labels with no predicted samples. Use `zero_division` parameter to control this behavior.\n",
      "  _warn_prf(average, modifier, msg_start, len(result))\n"
     ]
    }
   ],
   "source": [
    "from sklearn.ensemble import RandomForestClassifier\n",
    "clf = RandomForestClassifier(max_depth=10, random_state=0, n_estimators=1000)\n",
    "clf.fit(X_pca, y)\n",
    "\n",
    "print(confusion_matrix(y,clf.predict(X_pca)))\n",
    "print(classification_report(y,clf.predict(X_pca)))\n",
    "\n",
    "y_pred = clf.predict(X_test_pca)\n",
    "print(confusion_matrix(y_test,y_pred))\n",
    "print(classification_report(y_test,y_pred))"
   ]
  },
  {
   "cell_type": "code",
   "execution_count": null,
   "metadata": {},
   "outputs": [],
   "source": [
    "from sklearn import decomposition"
   ]
  },
  {
   "cell_type": "code",
   "execution_count": null,
   "metadata": {},
   "outputs": [],
   "source": [
    "y_train = np.array(y_train)"
   ]
  },
  {
   "cell_type": "code",
   "execution_count": null,
   "metadata": {},
   "outputs": [],
   "source": [
    "fig = plt.figure(1, figsize=(4, 3))\n",
    "plt.clf()\n",
    "ax = Axes3D(fig, rect=[0, 0, .95, 1], elev=48, azim=134)\n",
    "\n",
    "plt.cla()\n",
    "pca = decomposition.PCA(n_components=3)\n",
    "pca.fit(X_train)\n",
    "X = pca.transform(X_test)\n",
    "\n",
    "# for label in [0, 1]:\n",
    "#     ax.text3D(X[y_test == label, 0].mean(),\n",
    "#               X[y_test == label, 1].mean() + 1.5,\n",
    "#               horizontalalignment='center', s=1,\n",
    "#               bbox=dict(alpha=.5, edgecolor='w', facecolor='w'))\n",
    "# Reorder the labels to have colors matching the cluster results\n",
    "y = np.choose(y_test, [1, 0]).astype(np.float)\n",
    "ax.scatter(X[:, 0], X[:, 1], X[:, 2], c=y_test, cmap=plt.cm.nipy_spectral,\n",
    "           edgecolor='k')\n",
    "\n",
    "ax.w_xaxis.set_ticklabels([])\n",
    "ax.w_yaxis.set_ticklabels([])\n",
    "ax.w_zaxis.set_ticklabels([])\n",
    "\n",
    "plt.show()"
   ]
  },
  {
   "cell_type": "code",
   "execution_count": null,
   "metadata": {},
   "outputs": [],
   "source": [
    "plt.scatter(X[:, 0], X[:, 1], c=y_test, cmap=plt.cm.nipy_spectral,\n",
    "           edgecolor='k')"
   ]
  },
  {
   "cell_type": "code",
   "execution_count": null,
   "metadata": {},
   "outputs": [],
   "source": [
    "X_train = np.array(X_train)"
   ]
  },
  {
   "cell_type": "code",
   "execution_count": null,
   "metadata": {},
   "outputs": [],
   "source": [
    "import tensorflow as tf\n",
    "import numpy as np\n",
    "from tensorflow import keras"
   ]
  },
  {
   "cell_type": "code",
   "execution_count": null,
   "metadata": {},
   "outputs": [],
   "source": [
    "model = keras.Sequential([\n",
    "        keras.layers.Dense(1024, activation=\"relu\", name=\"layer1\"),\n",
    "        keras.layers.Dense(512, activation=\"relu\", name=\"layer2\"),\n",
    "        keras.layers.Dense(1, activation='sigmoid', name=\"layer3\"),\n",
    "    ])"
   ]
  },
  {
   "cell_type": "code",
   "execution_count": null,
   "metadata": {},
   "outputs": [],
   "source": [
    "np.array(X).shape"
   ]
  },
  {
   "cell_type": "code",
   "execution_count": null,
   "metadata": {
    "scrolled": true
   },
   "outputs": [],
   "source": [
    "sgd = keras.optimizers.SGD(lr=1e-3, decay=1e-2, momentum=0.9)\n",
    "model.compile(optimizer=sgd, loss='binary_crossentropy', metrics=['accuracy'])\n",
    "model.fit(np.array(X), np.array(y), epochs = 100)"
   ]
  },
  {
   "cell_type": "code",
   "execution_count": null,
   "metadata": {},
   "outputs": [],
   "source": [
    "y"
   ]
  },
  {
   "cell_type": "code",
   "execution_count": null,
   "metadata": {},
   "outputs": [],
   "source": [
    "plt.imshow(cv2.imread(cover_fnames[3]))"
   ]
  },
  {
   "cell_type": "code",
   "execution_count": null,
   "metadata": {},
   "outputs": [],
   "source": [
    "from jpeg2dct.numpy import load, loads\n",
    "\n",
    "\n",
    "#read from a file\n",
    "jpeg_file = cover_fnames[3]\n",
    "dct_y, dct_cb, dct_cr = load(jpeg_file)\n",
    "print (\"Y component DCT shape {} and type {}\".format(dct_y.shape, dct_y.dtype))\n",
    "print (\"Cb component DCT shape {} and type {}\".format(dct_cb.shape, dct_cb.dtype))\n",
    "print (\"Cr component DCT shape {} and type {}\".format(dct_cr.shape, dct_cr.dtype))"
   ]
  },
  {
   "cell_type": "code",
   "execution_count": null,
   "metadata": {},
   "outputs": [],
   "source": [
    "dct_y[1][0].shape"
   ]
  },
  {
   "cell_type": "code",
   "execution_count": null,
   "metadata": {},
   "outputs": [],
   "source": [
    "plt.imshow(dct_y[3][60].reshape(8, 8))"
   ]
  },
  {
   "cell_type": "code",
   "execution_count": null,
   "metadata": {},
   "outputs": [],
   "source": [
    "import matplotlib.pyplot as plt\n",
    "import matplotlib.gridspec as gridspec"
   ]
  },
  {
   "cell_type": "code",
   "execution_count": null,
   "metadata": {},
   "outputs": [],
   "source": [
    "fig = plt.figure()\n",
    "ax1 = fig.add_axes([0.1, 0.5, 0.8, 0.4],\n",
    "                   xticklabels=[], ylim=(-1.2, 1.2))\n",
    "ax2 = fig.add_axes([0.1, 0.1, 0.8, 0.4],\n",
    "                   ylim=(-1.2, 1.2))\n",
    "\n",
    "x = np.linspace(0, 10)\n",
    "ax1.plot(np.sin(x))\n",
    "ax2.plot(np.cos(x));\n"
   ]
  },
  {
   "cell_type": "code",
   "execution_count": null,
   "metadata": {},
   "outputs": [],
   "source": [
    "lim = 64\n",
    "fig, ax = plt.subplots(lim, lim, sharex='col', sharey='row', \n",
    "                       gridspec_kw={'hspace': 0, 'wspace': 0})\n",
    "\n",
    "# axes are in a two-dimensional array, indexed by [row, col]\n",
    "for i in range(lim):\n",
    "    for j in range(lim):\n",
    "        ax[i, j].imshow(dct_y[i][j].reshape(8, 8))\n",
    "# fig\n"
   ]
  },
  {
   "cell_type": "code",
   "execution_count": null,
   "metadata": {},
   "outputs": [],
   "source": [
    "plt.imshow(dct_y.reshape(512, 512))"
   ]
  },
  {
   "cell_type": "code",
   "execution_count": null,
   "metadata": {},
   "outputs": [],
   "source": []
  }
 ],
 "metadata": {
  "kernelspec": {
   "display_name": "YOLO",
   "language": "python",
   "name": "yolo"
  },
  "language_info": {
   "codemirror_mode": {
    "name": "ipython",
    "version": 3
   },
   "file_extension": ".py",
   "mimetype": "text/x-python",
   "name": "python",
   "nbconvert_exporter": "python",
   "pygments_lexer": "ipython3",
   "version": "3.6.9"
  }
 },
 "nbformat": 4,
 "nbformat_minor": 2
}
